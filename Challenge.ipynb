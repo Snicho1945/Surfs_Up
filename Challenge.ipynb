{
 "cells": [
  {
   "cell_type": "code",
   "execution_count": 1,
   "metadata": {
    "tags": []
   },
   "outputs": [],
   "source": [
    "%matplotlib inline\n",
    "from matplotlib import style\n",
    "style.use('fivethirtyeight')\n",
    "import matplotlib.pyplot as plt"
   ]
  },
  {
   "cell_type": "code",
   "execution_count": 2,
   "metadata": {},
   "outputs": [],
   "source": [
    "import numpy as np\n",
    "import pandas as pd"
   ]
  },
  {
   "cell_type": "code",
   "execution_count": 3,
   "metadata": {},
   "outputs": [],
   "source": [
    "import datetime as dt\n",
    "from datetime import timedelta\n",
    "import calendar"
   ]
  },
  {
   "cell_type": "markdown",
   "metadata": {},
   "source": [
    "# Reflect Tables into SQLAlchemy ORM"
   ]
  },
  {
   "cell_type": "code",
   "execution_count": 4,
   "metadata": {},
   "outputs": [],
   "source": [
    "# Python SQL toolkit and Object Relational Mapper\n",
    "import sqlalchemy\n",
    "from sqlalchemy.ext.automap import automap_base\n",
    "from sqlalchemy.orm import Session\n",
    "from sqlalchemy import create_engine, func"
   ]
  },
  {
   "cell_type": "code",
   "execution_count": 5,
   "metadata": {},
   "outputs": [],
   "source": [
    "engine = create_engine(\"sqlite:///hawaii.sqlite\")"
   ]
  },
  {
   "cell_type": "code",
   "execution_count": 6,
   "metadata": {},
   "outputs": [],
   "source": [
    "# reflect an existing database into a new model\n",
    "Base = automap_base()\n",
    "# reflect the tables\n",
    "Base.prepare(engine, reflect=True)"
   ]
  },
  {
   "cell_type": "code",
   "execution_count": 7,
   "metadata": {},
   "outputs": [
    {
     "data": {
      "text/plain": [
       "['measurement', 'station']"
      ]
     },
     "execution_count": 7,
     "metadata": {},
     "output_type": "execute_result"
    }
   ],
   "source": [
    "# We can view all of the classes that automap found\n",
    "Base.classes.keys()"
   ]
  },
  {
   "cell_type": "code",
   "execution_count": 8,
   "metadata": {},
   "outputs": [],
   "source": [
    "# Save references to each table\n",
    "Measurement = Base.classes.measurement\n",
    "Station = Base.classes.station"
   ]
  },
  {
   "cell_type": "code",
   "execution_count": 9,
   "metadata": {},
   "outputs": [],
   "source": [
    "# Create our session (link) from Python to the DB\n",
    "session = Session(engine)"
   ]
  },
  {
   "cell_type": "code",
   "execution_count": 10,
   "metadata": {},
   "outputs": [
    {
     "data": {
      "text/plain": [
       "[(9)]"
      ]
     },
     "execution_count": 10,
     "metadata": {},
     "output_type": "execute_result"
    }
   ],
   "source": [
    "# How many stations are available in this dataset?\n",
    "session.query(func.count(Station.station)).all()"
   ]
  },
  {
   "cell_type": "code",
   "execution_count": 11,
   "metadata": {},
   "outputs": [
    {
     "data": {
      "text/plain": [
       "[('USC00519281', 2772),\n",
       " ('USC00519397', 2724),\n",
       " ('USC00513117', 2709),\n",
       " ('USC00519523', 2669),\n",
       " ('USC00516128', 2612),\n",
       " ('USC00514830', 2202),\n",
       " ('USC00511918', 1979),\n",
       " ('USC00517948', 1372),\n",
       " ('USC00518838', 511)]"
      ]
     },
     "execution_count": 11,
     "metadata": {},
     "output_type": "execute_result"
    }
   ],
   "source": [
    "# What are the most active stations?\n",
    "session.query(Measurement.station, func.count(Measurement.station)).\\\n",
    "    group_by(Measurement.station).order_by(func.count(Measurement.station).desc()).all()\n",
    "# List the stations and the counts in descending order.\n"
   ]
  },
  {
   "cell_type": "code",
   "execution_count": 12,
   "metadata": {},
   "outputs": [
    {
     "data": {
      "text/plain": [
       "[(54.0, 85.0, 71.66378066378067)]"
      ]
     },
     "execution_count": 12,
     "metadata": {},
     "output_type": "execute_result"
    }
   ],
   "source": [
    "# Using the station id from the previous query.\n",
    "session.query(func.min(Measurement.tobs), func.max(Measurement.tobs), func.avg(Measurement.tobs)).\\\n",
    "filter(Measurement.station == 'USC00519281').all()"
   ]
  },
  {
   "cell_type": "markdown",
   "metadata": {},
   "source": [
    "### Exploratory Climate Analysis for June"
   ]
  },
  {
   "cell_type": "code",
   "execution_count": 13,
   "metadata": {},
   "outputs": [
    {
     "name": "stdout",
     "output_type": "stream",
     "text": [
      "[('2017-06-01', 0.0), ('2017-06-02', 0.0), ('2017-06-03', 0.02), ('2017-06-04', 0.0), ('2017-06-05', 0.0), ('2017-06-06', 0.0), ('2017-06-07', 0.0), ('2017-06-08', 0.0), ('2017-06-09', 0.0), ('2017-06-10', 0.04), ('2017-06-11', 0.08), ('2017-06-12', 0.02), ('2017-06-13', 0.0), ('2017-06-14', 0.0), ('2017-06-15', 0.0), ('2017-06-16', 0.0), ('2017-06-17', 0.0), ('2017-06-18', 0.05), ('2017-06-19', 0.0), ('2017-06-20', 0.02), ('2017-06-21', 0.0), ('2017-06-22', 0.0), ('2017-06-23', 0.0), ('2017-06-24', 0.06), ('2017-06-25', 0.0), ('2017-06-26', 0.0), ('2017-06-27', 0.0), ('2017-06-28', 0.0), ('2017-06-29', 0.0), ('2017-06-30', 0.08), ('2017-06-01', 0.03), ('2017-06-02', 0.1), ('2017-06-03', 0.2), ('2017-06-04', 0.15), ('2017-06-05', 0.0), ('2017-06-06', 0.0), ('2017-06-07', 0.0), ('2017-06-08', 0.02), ('2017-06-09', 0.02), ('2017-06-10', 0.21), ('2017-06-11', 0.24), ('2017-06-12', 0.19), ('2017-06-13', 0.36), ('2017-06-14', 0.27), ('2017-06-15', 0.17), ('2017-06-16', 0.02), ('2017-06-17', 0.35), ('2017-06-18', 0.25), ('2017-06-19', 0.05), ('2017-06-20', 0.05), ('2017-06-21', 0.02), ('2017-06-22', 0.1), ('2017-06-23', 0.0), ('2017-06-24', 0.0), ('2017-06-25', 0.08), ('2017-06-26', 0.02), ('2017-06-27', 0.0), ('2017-06-28', 0.01), ('2017-06-29', 0.03), ('2017-06-30', 0.04), ('2017-06-01', 0.0), ('2017-06-02', 0.15), ('2017-06-03', 0.16), ('2017-06-04', 0.05), ('2017-06-05', 0.02), ('2017-06-06', 0.0), ('2017-06-07', 0.0), ('2017-06-08', 0.01), ('2017-06-09', 0.0), ('2017-06-10', 0.53), ('2017-06-11', 0.14), ('2017-06-12', 0.35), ('2017-06-13', 0.1), ('2017-06-14', 0.21), ('2017-06-15', 0.3), ('2017-06-16', 0.02), ('2017-06-17', 0.02), ('2017-06-18', 0.18), ('2017-06-19', 0.19), ('2017-06-20', 0.17), ('2017-06-23', None), ('2017-06-26', None), ('2017-06-29', None), ('2017-06-30', 0.0), ('2017-06-02', None), ('2017-06-05', None), ('2017-06-06', None), ('2017-06-07', None), ('2017-06-08', None), ('2017-06-09', None), ('2017-06-13', None), ('2017-06-14', None), ('2017-06-15', None), ('2017-06-16', None), ('2017-06-19', None), ('2017-06-20', None), ('2017-06-21', None), ('2017-06-22', 0.0), ('2017-06-23', 0.0), ('2017-06-26', None), ('2017-06-27', 0.0), ('2017-06-28', 0.0), ('2017-06-29', 0.0), ('2017-06-30', 0.12), ('2017-06-01', 0.0), ('2017-06-02', 0.0), ('2017-06-03', 0.15), ('2017-06-04', 0.0), ('2017-06-05', 0.0), ('2017-06-06', 0.0), ('2017-06-07', 0.0), ('2017-06-08', 0.0), ('2017-06-09', 0.0), ('2017-06-10', 0.13), ('2017-06-11', 0.25), ('2017-06-12', 0.14), ('2017-06-13', 0.03), ('2017-06-14', 0.06), ('2017-06-15', 0.0), ('2017-06-16', 0.0), ('2017-06-17', 0.0), ('2017-06-18', 0.0), ('2017-06-19', 0.01), ('2017-06-21', None), ('2017-06-22', 0.0), ('2017-06-23', 0.05), ('2017-06-24', 0.0), ('2017-06-25', 0.0), ('2017-06-26', 0.0), ('2017-06-27', 0.0), ('2017-06-28', 0.0), ('2017-06-29', 0.0), ('2017-06-30', 0.07), ('2017-06-01', 0.0), ('2017-06-02', 0.09), ('2017-06-03', 0.08), ('2017-06-04', 0.13), ('2017-06-05', 0.05), ('2017-06-06', 0.0), ('2017-06-07', 0.0), ('2017-06-08', 0.0), ('2017-06-09', 0.02), ('2017-06-10', 0.62), ('2017-06-11', 0.74), ('2017-06-12', 0.24), ('2017-06-13', 0.24), ('2017-06-14', 0.22), ('2017-06-15', 0.55), ('2017-06-16', 0.06), ('2017-06-17', 0.07), ('2017-06-18', 0.24), ('2017-06-19', 0.08), ('2017-06-20', 0.0), ('2017-06-21', 0.19), ('2017-06-22', 0.06), ('2017-06-23', 0.12), ('2017-06-24', 0.36), ('2017-06-25', 0.02), ('2017-06-26', 0.06), ('2017-06-27', 0.01), ('2017-06-28', 0.0), ('2017-06-29', 0.0), ('2017-06-30', 0.01), ('2017-06-01', 0.01), ('2017-06-03', None), ('2017-06-04', 0.82), ('2017-06-05', 0.01), ('2017-06-06', 0.0), ('2017-06-07', 0.01), ('2017-06-08', 0.0), ('2017-06-10', None), ('2017-06-11', 0.7), ('2017-06-12', 0.81), ('2017-06-13', 0.65), ('2017-06-14', 0.81), ('2017-06-15', 1.69), ('2017-06-16', 0.1), ('2017-06-17', 0.1), ('2017-06-18', 0.7), ('2017-06-19', 0.4), ('2017-06-20', 0.31), ('2017-06-21', 0.3), ('2017-06-22', 0.28), ('2017-06-23', 0.5), ('2017-06-24', 0.22), ('2017-06-25', 0.5), ('2017-06-26', 0.02), ('2017-06-27', 0.1), ('2017-06-28', 0.02), ('2017-06-29', 0.04), ('2017-06-30', 0.2)]\n"
     ]
    },
    {
     "data": {
      "text/plain": [
       "<matplotlib.axes._subplots.AxesSubplot at 0x25046cd5a88>"
      ]
     },
     "execution_count": 13,
     "metadata": {},
     "output_type": "execute_result"
    },
    {
     "data": {
      "image/png": "[encoded data removed]",
      "text/plain": [
       "<Figure size 432x288 with 1 Axes>"
      ]
     },
     "metadata": {},
     "output_type": "display_data"
    }
   ],
   "source": [
    " \n",
    "# calc month of june 2017\n",
    "# https://stackoverflow.com/questions/11616260/how-to-get-all-objects-with-a-date-that-fall-in-a-specific-month-sqlalchemy/31641488\n",
    "year = 2017\n",
    "month = 6\n",
    "num_days = calendar.monthrange(year, month)[1]\n",
    "start_date = dt.date(year, month, 1)\n",
    "end_date = dt.date(year, month, num_days)\n",
    "# Perform a query to retrieve the data and precipitation scores\n",
    "results = []\n",
    "results = session.query(Measurement.date, Measurement.prcp).filter(Measurement.date >= start_date, Measurement.date <= end_date).all()\n",
    "\n",
    "print(results)\n",
    "\n",
    "# Save the query results as a Pandas DataFrame and set the index to the date column\n",
    "june_df = pd.DataFrame(results, columns=['date', 'precipitation'])\n",
    "june_df.set_index(june_df['date'], inplace=True)\n",
    "# Sort the dataframe by date\n",
    "june_df = june_df.sort_index()\n",
    "\n",
    "\n",
    "# Use Pandas Plotting with Matplotlib to plot the data\n",
    "june_df.plot()"
   ]
  },
  {
   "cell_type": "code",
   "execution_count": 14,
   "metadata": {},
   "outputs": [
    {
     "data": {
      "text/html": [
       "<div>\n",
       "<style scoped>\n",
       "    .dataframe tbody tr th:only-of-type {\n",
       "        vertical-align: middle;\n",
       "    }\n",
       "\n",
       "    .dataframe tbody tr th {\n",
       "        vertical-align: top;\n",
       "    }\n",
       "\n",
       "    .dataframe thead th {\n",
       "        text-align: right;\n",
       "    }\n",
       "</style>\n",
       "<table border=\"1\" class=\"dataframe\">\n",
       "  <thead>\n",
       "    <tr style=\"text-align: right;\">\n",
       "      <th></th>\n",
       "      <th>precipitation</th>\n",
       "    </tr>\n",
       "  </thead>\n",
       "  <tbody>\n",
       "    <tr>\n",
       "      <th>count</th>\n",
       "      <td>171.000000</td>\n",
       "    </tr>\n",
       "    <tr>\n",
       "      <th>mean</th>\n",
       "      <td>0.120000</td>\n",
       "    </tr>\n",
       "    <tr>\n",
       "      <th>std</th>\n",
       "      <td>0.217726</td>\n",
       "    </tr>\n",
       "    <tr>\n",
       "      <th>min</th>\n",
       "      <td>0.000000</td>\n",
       "    </tr>\n",
       "    <tr>\n",
       "      <th>25%</th>\n",
       "      <td>0.000000</td>\n",
       "    </tr>\n",
       "    <tr>\n",
       "      <th>50%</th>\n",
       "      <td>0.020000</td>\n",
       "    </tr>\n",
       "    <tr>\n",
       "      <th>75%</th>\n",
       "      <td>0.150000</td>\n",
       "    </tr>\n",
       "    <tr>\n",
       "      <th>max</th>\n",
       "      <td>1.690000</td>\n",
       "    </tr>\n",
       "  </tbody>\n",
       "</table>\n",
       "</div>"
      ],
      "text/plain": [
       "       precipitation\n",
       "count     171.000000\n",
       "mean        0.120000\n",
       "std         0.217726\n",
       "min         0.000000\n",
       "25%         0.000000\n",
       "50%         0.020000\n",
       "75%         0.150000\n",
       "max         1.690000"
      ]
     },
     "execution_count": 14,
     "metadata": {},
     "output_type": "execute_result"
    }
   ],
   "source": [
    "# Use Pandas to calcualte the summary statistics for the precipitation data\n",
    "june_df.describe()"
   ]
  },
  {
   "cell_type": "code",
   "execution_count": 15,
   "metadata": {},
   "outputs": [
    {
     "name": "stdout",
     "output_type": "stream",
     "text": [
      "[(80.0,), (76.0,), (76.0,), (77.0,), (75.0,), (75.0,), (75.0,), (75.0,), (72.0,), (74.0,), (74.0,), (74.0,), (76.0,), (74.0,), (75.0,), (73.0,), (79.0,), (75.0,), (72.0,), (72.0,), (74.0,), (72.0,), (72.0,), (77.0,), (71.0,), (73.0,), (76.0,), (77.0,), (76.0,), (76.0,)]\n"
     ]
    }
   ],
   "source": [
    "Jresults = session.query(Measurement.tobs).\\\n",
    "filter(Measurement.station == 'USC00519281').\\\n",
    "filter(Measurement.date >= start_date, Measurement.date <= end_date).all()\n",
    "# Query June 2017\n",
    "print(Jresults)"
   ]
  },
  {
   "cell_type": "code",
   "execution_count": 17,
   "metadata": {},
   "outputs": [
    {
     "name": "stdout",
     "output_type": "stream",
     "text": [
      "    tobs\n",
      "0   80.0\n",
      "1   76.0\n",
      "2   76.0\n",
      "3   77.0\n",
      "4   75.0\n",
      "5   75.0\n",
      "6   75.0\n",
      "7   75.0\n",
      "8   72.0\n",
      "9   74.0\n",
      "10  74.0\n",
      "11  74.0\n",
      "12  76.0\n",
      "13  74.0\n",
      "14  75.0\n",
      "15  73.0\n",
      "16  79.0\n",
      "17  75.0\n",
      "18  72.0\n",
      "19  72.0\n",
      "20  74.0\n",
      "21  72.0\n",
      "22  72.0\n",
      "23  77.0\n",
      "24  71.0\n",
      "25  73.0\n",
      "26  76.0\n",
      "27  77.0\n",
      "28  76.0\n",
      "29  76.0\n"
     ]
    },
    {
     "data": {
      "text/html": [
       "<div>\n",
       "<style scoped>\n",
       "    .dataframe tbody tr th:only-of-type {\n",
       "        vertical-align: middle;\n",
       "    }\n",
       "\n",
       "    .dataframe tbody tr th {\n",
       "        vertical-align: top;\n",
       "    }\n",
       "\n",
       "    .dataframe thead th {\n",
       "        text-align: right;\n",
       "    }\n",
       "</style>\n",
       "<table border=\"1\" class=\"dataframe\">\n",
       "  <thead>\n",
       "    <tr style=\"text-align: right;\">\n",
       "      <th></th>\n",
       "      <th>tobs</th>\n",
       "    </tr>\n",
       "  </thead>\n",
       "  <tbody>\n",
       "    <tr>\n",
       "      <th>count</th>\n",
       "      <td>30.000000</td>\n",
       "    </tr>\n",
       "    <tr>\n",
       "      <th>mean</th>\n",
       "      <td>74.766667</td>\n",
       "    </tr>\n",
       "    <tr>\n",
       "      <th>std</th>\n",
       "      <td>2.128353</td>\n",
       "    </tr>\n",
       "    <tr>\n",
       "      <th>min</th>\n",
       "      <td>71.000000</td>\n",
       "    </tr>\n",
       "    <tr>\n",
       "      <th>25%</th>\n",
       "      <td>73.250000</td>\n",
       "    </tr>\n",
       "    <tr>\n",
       "      <th>50%</th>\n",
       "      <td>75.000000</td>\n",
       "    </tr>\n",
       "    <tr>\n",
       "      <th>75%</th>\n",
       "      <td>76.000000</td>\n",
       "    </tr>\n",
       "    <tr>\n",
       "      <th>max</th>\n",
       "      <td>80.000000</td>\n",
       "    </tr>\n",
       "  </tbody>\n",
       "</table>\n",
       "</div>"
      ],
      "text/plain": [
       "            tobs\n",
       "count  30.000000\n",
       "mean   74.766667\n",
       "std     2.128353\n",
       "min    71.000000\n",
       "25%    73.250000\n",
       "50%    75.000000\n",
       "75%    76.000000\n",
       "max    80.000000"
      ]
     },
     "execution_count": 17,
     "metadata": {},
     "output_type": "execute_result"
    }
   ],
   "source": [
    "junetemp_df = pd.DataFrame(Jresults, columns=['tobs'])\n",
    "print(junetemp_df)\n",
    "junetemp_df.describe()"
   ]
  },
  {
   "cell_type": "markdown",
   "metadata": {},
   "source": [
    "### Exploratory Climate Analysis for December"
   ]
  },
  {
   "cell_type": "code",
   "execution_count": 18,
   "metadata": {},
   "outputs": [
    {
     "name": "stdout",
     "output_type": "stream",
     "text": [
      "[('2016-12-01', 0.12), ('2016-12-02', 0.03), ('2016-12-03', 0.0), ('2016-12-04', 0.03), ('2016-12-05', 0.43), ('2016-12-06', 0.02), ('2016-12-07', 0.0), ('2016-12-08', 0.03), ('2016-12-09', 0.52), ('2016-12-10', 0.05), ('2016-12-11', 0.04), ('2016-12-12', 0.01), ('2016-12-13', 0.05), ('2016-12-14', 0.03), ('2016-12-15', 0.0), ('2016-12-16', 0.0), ('2016-12-17', 0.01), ('2016-12-18', 0.13), ('2016-12-19', 0.01), ('2016-12-20', 0.0), ('2016-12-21', 0.0), ('2016-12-22', 0.01), ('2016-12-23', 0.01), ('2016-12-24', 0.01), ('2016-12-25', 0.0), ('2016-12-26', 0.02), ('2016-12-27', 0.0), ('2016-12-28', 0.02), ('2016-12-29', 0.04), ('2016-12-30', 0.12), ('2016-12-31', 0.01), ('2016-12-01', 0.33), ('2016-12-02', 0.3), ('2016-12-03', 0.04), ('2016-12-04', 0.1), ('2016-12-05', 0.34), ('2016-12-06', 0.02), ('2016-12-07', 0.17), ('2016-12-08', 0.03), ('2016-12-09', 0.34), ('2016-12-10', 0.02), ('2016-12-11', 0.02), ('2016-12-12', 0.01), ('2016-12-13', 0.1), ('2016-12-14', 0.05), ('2016-12-15', 0.02), ('2016-12-16', 0.01), ('2016-12-17', 0.11), ('2016-12-18', 0.29), ('2016-12-19', 0.21), ('2016-12-20', 0.02), ('2016-12-21', 0.03), ('2016-12-22', 0.17), ('2016-12-23', 0.1), ('2016-12-24', 0.14), ('2016-12-25', 0.03), ('2016-12-26', 0.26), ('2016-12-27', 0.03), ('2016-12-28', 0.09), ('2016-12-29', 0.18), ('2016-12-30', 0.21), ('2016-12-31', 0.62), ('2016-12-01', 0.07), ('2016-12-02', 0.4), ('2016-12-03', 0.26), ('2016-12-04', 0.0), ('2016-12-05', 0.2), ('2016-12-07', None), ('2016-12-08', 0.02), ('2016-12-09', 0.26), ('2016-12-10', 0.0), ('2016-12-12', None), ('2016-12-13', 0.34), ('2016-12-14', 0.12), ('2016-12-15', 0.07), ('2016-12-16', 0.0), ('2016-12-17', 0.0), ('2016-12-18', 0.04), ('2016-12-19', 0.0), ('2016-12-20', 0.0), ('2016-12-21', 0.09), ('2016-12-22', 0.05), ('2016-12-23', 0.03), ('2016-12-24', 0.13), ('2016-12-26', None), ('2016-12-27', 0.02), ('2016-12-28', 0.01), ('2016-12-29', 0.56), ('2016-12-30', 0.29), ('2016-12-31', 0.36), ('2016-12-01', None), ('2016-12-02', None), ('2016-12-05', None), ('2016-12-06', None), ('2016-12-07', None), ('2016-12-08', 0.27), ('2016-12-09', None), ('2016-12-12', 0.02), ('2016-12-13', None), ('2016-12-14', None), ('2016-12-15', None), ('2016-12-16', None), ('2016-12-19', None), ('2016-12-20', None), ('2016-12-21', 0.06), ('2016-12-22', None), ('2016-12-23', None), ('2016-12-28', None), ('2016-12-29', None), ('2016-12-30', None), ('2016-12-01', 0.16), ('2016-12-02', 0.01), ('2016-12-03', 0.02), ('2016-12-04', 0.32), ('2016-12-05', 0.45), ('2016-12-06', 0.0), ('2016-12-07', 0.07), ('2016-12-08', 0.01), ('2016-12-10', None), ('2016-12-11', 0.06), ('2016-12-12', 0.0), ('2016-12-13', 0.15), ('2016-12-14', 0.05), ('2016-12-15', 0.0), ('2016-12-16', 0.0), ('2016-12-17', 0.16), ('2016-12-18', 0.27), ('2016-12-19', 0.02), ('2016-12-20', 0.01), ('2016-12-21', 0.06), ('2016-12-22', 0.14), ('2016-12-23', 0.02), ('2016-12-24', 0.06), ('2016-12-25', 0.0), ('2016-12-26', 0.06), ('2016-12-27', 0.0), ('2016-12-28', 0.06), ('2016-12-29', 0.05), ('2016-12-30', 0.07), ('2016-12-01', 0.37), ('2016-12-02', 0.35), ('2016-12-03', 0.77), ('2016-12-04', 0.04), ('2016-12-05', 0.22), ('2016-12-06', 0.0), ('2016-12-07', 0.12), ('2016-12-08', 0.07), ('2016-12-09', 0.31), ('2016-12-10', 0.02), ('2016-12-11', 0.0), ('2016-12-12', 0.0), ('2016-12-13', 0.04), ('2016-12-14', 0.92), ('2016-12-15', 0.14), ('2016-12-16', 0.03), ('2016-12-17', 0.07), ('2016-12-18', 0.16), ('2016-12-19', 0.03), ('2016-12-20', 0.0), ('2016-12-21', 0.11), ('2016-12-22', 0.86), ('2016-12-23', 0.24), ('2016-12-24', 0.2), ('2016-12-25', 0.02), ('2016-12-26', 0.22), ('2016-12-27', 0.05), ('2016-12-28', 0.09), ('2016-12-29', 0.52), ('2016-12-30', 0.29), ('2016-12-31', 0.25), ('2016-12-01', 0.72), ('2016-12-02', 1.27), ('2016-12-03', 1.62), ('2016-12-04', 0.31), ('2016-12-05', 1.6), ('2016-12-06', 0.0), ('2016-12-07', 0.02), ('2016-12-08', 0.03), ('2016-12-09', 0.42), ('2016-12-10', 0.04), ('2016-12-11', 0.13), ('2016-12-12', 0.01), ('2016-12-13', 0.09), ('2016-12-14', 0.33), ('2016-12-15', 0.03), ('2016-12-16', 0.0), ('2016-12-18', None), ('2016-12-19', 0.15), ('2016-12-20', 0.0), ('2016-12-21', 0.55), ('2016-12-22', 1.24), ('2016-12-23', 0.83), ('2016-12-24', 1.08), ('2016-12-25', 0.38), ('2016-12-26', 1.48), ('2016-12-27', 0.14), ('2016-12-28', 0.14), ('2016-12-29', 1.03), ('2016-12-30', 2.37), ('2016-12-31', 0.9)]\n"
     ]
    },
    {
     "data": {
      "text/plain": [
       "<matplotlib.axes._subplots.AxesSubplot at 0x25046f99dc8>"
      ]
     },
     "execution_count": 18,
     "metadata": {},
     "output_type": "execute_result"
    },
    {
     "data": {
      "image/png": "[encoded data removed]",
      "text/plain": [
       "<Figure size 432x288 with 1 Axes>"
      ]
     },
     "metadata": {},
     "output_type": "display_data"
    }
   ],
   "source": [
    "# calc month of December 2016\n",
    "year = 2016\n",
    "month = 12\n",
    "num_days = calendar.monthrange(year, month)[1]\n",
    "start_date = dt.date(year, month, 1)\n",
    "end_date = dt.date(year, month, num_days)\n",
    "# Perform a query to retrieve the data and precipitation scores\n",
    "results = []\n",
    "results = session.query(Measurement.date, Measurement.prcp).filter(Measurement.date >= start_date, Measurement.date <= end_date).all()\n",
    "\n",
    "print(results)\n",
    "\n",
    "# Save the query results as a Pandas DataFrame and set the index to the date column\n",
    "decem_df = pd.DataFrame(results, columns=['date', 'precipitation'])\n",
    "decem_df.set_index(decem_df['date'], inplace=True)\n",
    "# Sort the dataframe by date\n",
    "decem_df = decem_df.sort_index()\n",
    "\n",
    "\n",
    "# Use Pandas Plotting with Matplotlib to plot the data\n",
    "decem_df.plot()"
   ]
  },
  {
   "cell_type": "code",
   "execution_count": 19,
   "metadata": {},
   "outputs": [
    {
     "data": {
      "text/html": [
       "<div>\n",
       "<style scoped>\n",
       "    .dataframe tbody tr th:only-of-type {\n",
       "        vertical-align: middle;\n",
       "    }\n",
       "\n",
       "    .dataframe tbody tr th {\n",
       "        vertical-align: top;\n",
       "    }\n",
       "\n",
       "    .dataframe thead th {\n",
       "        text-align: right;\n",
       "    }\n",
       "</style>\n",
       "<table border=\"1\" class=\"dataframe\">\n",
       "  <thead>\n",
       "    <tr style=\"text-align: right;\">\n",
       "      <th></th>\n",
       "      <th>precipitation</th>\n",
       "    </tr>\n",
       "  </thead>\n",
       "  <tbody>\n",
       "    <tr>\n",
       "      <th>count</th>\n",
       "      <td>178.000000</td>\n",
       "    </tr>\n",
       "    <tr>\n",
       "      <th>mean</th>\n",
       "      <td>0.199494</td>\n",
       "    </tr>\n",
       "    <tr>\n",
       "      <th>std</th>\n",
       "      <td>0.342967</td>\n",
       "    </tr>\n",
       "    <tr>\n",
       "      <th>min</th>\n",
       "      <td>0.000000</td>\n",
       "    </tr>\n",
       "    <tr>\n",
       "      <th>25%</th>\n",
       "      <td>0.020000</td>\n",
       "    </tr>\n",
       "    <tr>\n",
       "      <th>50%</th>\n",
       "      <td>0.060000</td>\n",
       "    </tr>\n",
       "    <tr>\n",
       "      <th>75%</th>\n",
       "      <td>0.247500</td>\n",
       "    </tr>\n",
       "    <tr>\n",
       "      <th>max</th>\n",
       "      <td>2.370000</td>\n",
       "    </tr>\n",
       "  </tbody>\n",
       "</table>\n",
       "</div>"
      ],
      "text/plain": [
       "       precipitation\n",
       "count     178.000000\n",
       "mean        0.199494\n",
       "std         0.342967\n",
       "min         0.000000\n",
       "25%         0.020000\n",
       "50%         0.060000\n",
       "75%         0.247500\n",
       "max         2.370000"
      ]
     },
     "execution_count": 19,
     "metadata": {},
     "output_type": "execute_result"
    }
   ],
   "source": [
    "# Use Pandas to calcualte the summary statistics for the precipitation data\n",
    "decem_df.describe()"
   ]
  },
  {
   "cell_type": "code",
   "execution_count": 20,
   "metadata": {},
   "outputs": [
    {
     "name": "stdout",
     "output_type": "stream",
     "text": [
      "[(74.0,), (70.0,), (72.0,), (70.0,), (67.0,), (67.0,), (69.0,), (70.0,), (68.0,), (69.0,), (69.0,), (66.0,), (65.0,), (68.0,), (62.0,), (75.0,), (70.0,), (69.0,), (76.0,), (76.0,), (74.0,), (73.0,), (71.0,), (74.0,), (74.0,), (72.0,), (71.0,), (72.0,), (74.0,), (69.0,), (67.0,)]\n"
     ]
    }
   ],
   "source": [
    "Dresults = session.query(Measurement.tobs).\\\n",
    "filter(Measurement.station == 'USC00519281').\\\n",
    "filter(Measurement.date >= start_date, Measurement.date <= end_date).all()\n",
    "print(Dresults)"
   ]
  },
  {
   "cell_type": "code",
   "execution_count": 21,
   "metadata": {},
   "outputs": [
    {
     "name": "stdout",
     "output_type": "stream",
     "text": [
      "    tobs\n",
      "0   74.0\n",
      "1   70.0\n",
      "2   72.0\n",
      "3   70.0\n",
      "4   67.0\n",
      "5   67.0\n",
      "6   69.0\n",
      "7   70.0\n",
      "8   68.0\n",
      "9   69.0\n",
      "10  69.0\n",
      "11  66.0\n",
      "12  65.0\n",
      "13  68.0\n",
      "14  62.0\n",
      "15  75.0\n",
      "16  70.0\n",
      "17  69.0\n",
      "18  76.0\n",
      "19  76.0\n",
      "20  74.0\n",
      "21  73.0\n",
      "22  71.0\n",
      "23  74.0\n",
      "24  74.0\n",
      "25  72.0\n",
      "26  71.0\n",
      "27  72.0\n",
      "28  74.0\n",
      "29  69.0\n",
      "30  67.0\n"
     ]
    },
    {
     "data": {
      "text/html": [
       "<div>\n",
       "<style scoped>\n",
       "    .dataframe tbody tr th:only-of-type {\n",
       "        vertical-align: middle;\n",
       "    }\n",
       "\n",
       "    .dataframe tbody tr th {\n",
       "        vertical-align: top;\n",
       "    }\n",
       "\n",
       "    .dataframe thead th {\n",
       "        text-align: right;\n",
       "    }\n",
       "</style>\n",
       "<table border=\"1\" class=\"dataframe\">\n",
       "  <thead>\n",
       "    <tr style=\"text-align: right;\">\n",
       "      <th></th>\n",
       "      <th>tobs</th>\n",
       "    </tr>\n",
       "  </thead>\n",
       "  <tbody>\n",
       "    <tr>\n",
       "      <th>count</th>\n",
       "      <td>31.000000</td>\n",
       "    </tr>\n",
       "    <tr>\n",
       "      <th>mean</th>\n",
       "      <td>70.419355</td>\n",
       "    </tr>\n",
       "    <tr>\n",
       "      <th>std</th>\n",
       "      <td>3.364265</td>\n",
       "    </tr>\n",
       "    <tr>\n",
       "      <th>min</th>\n",
       "      <td>62.000000</td>\n",
       "    </tr>\n",
       "    <tr>\n",
       "      <th>25%</th>\n",
       "      <td>68.500000</td>\n",
       "    </tr>\n",
       "    <tr>\n",
       "      <th>50%</th>\n",
       "      <td>70.000000</td>\n",
       "    </tr>\n",
       "    <tr>\n",
       "      <th>75%</th>\n",
       "      <td>73.500000</td>\n",
       "    </tr>\n",
       "    <tr>\n",
       "      <th>max</th>\n",
       "      <td>76.000000</td>\n",
       "    </tr>\n",
       "  </tbody>\n",
       "</table>\n",
       "</div>"
      ],
      "text/plain": [
       "            tobs\n",
       "count  31.000000\n",
       "mean   70.419355\n",
       "std     3.364265\n",
       "min    62.000000\n",
       "25%    68.500000\n",
       "50%    70.000000\n",
       "75%    73.500000\n",
       "max    76.000000"
      ]
     },
     "execution_count": 21,
     "metadata": {},
     "output_type": "execute_result"
    }
   ],
   "source": [
    "decemtemp_df = pd.DataFrame(Dresults, columns=['tobs'])\n",
    "print(decemtemp_df)\n",
    "decemtemp_df.describe()"
   ]
  },
  {
   "cell_type": "code",
   "execution_count": null,
   "metadata": {},
   "outputs": [],
   "source": []
  }
 ],
 "metadata": {
  "kernelspec": {
   "display_name": "Python 3",
   "language": "python",
   "name": "python3"
  },
  "language_info": {
   "codemirror_mode": {
    "name": "ipython",
    "version": 3
   },
   "file_extension": ".py",
   "mimetype": "text/x-python",
   "name": "python",
   "nbconvert_exporter": "python",
   "pygments_lexer": "ipython3",
   "version": "3.7.7"
  }
 },
 "nbformat": 4,
 "nbformat_minor": 2
}
